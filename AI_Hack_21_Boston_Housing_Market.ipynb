{
 "cells": [
  {
   "cell_type": "code",
   "execution_count": 123,
   "metadata": {},
   "outputs": [],
   "source": [
    "import pandas as pd \n",
    "import numpy as np \n",
    "import matplotlib.pyplot as plt"
   ]
  },
  {
   "cell_type": "code",
   "execution_count": 124,
   "metadata": {},
   "outputs": [],
   "source": [
    "df = pd.read_csv('./boston_corrected.csv')\n",
    "\n",
    "from sklearn.model_selection import train_test_split\n",
    "\n",
    "train_set, test_set = train_test_split(df, test_size=0.2, random_state=42)\n",
    "\n",
    "housing = train_set.copy()"
   ]
  },
  {
   "cell_type": "code",
   "execution_count": 125,
   "metadata": {},
   "outputs": [
    {
     "output_type": "execute_result",
     "data": {
      "text/plain": [
       "           TOWNNO        TRACT         LON         LAT        MEDV  \\\n",
       "count  506.000000   506.000000  506.000000  506.000000  506.000000   \n",
       "mean    47.531621  2700.357708  -71.056389   42.216440   22.532806   \n",
       "std     27.571401  1380.038110    0.075405    0.061777    9.197104   \n",
       "min      0.000000     1.000000  -71.289500   42.030000    5.000000   \n",
       "25%     26.250000  1303.250000  -71.093225   42.180775   17.025000   \n",
       "50%     42.000000  3393.500000  -71.052900   42.218100   21.200000   \n",
       "75%     78.000000  3739.750000  -71.019625   42.252250   25.000000   \n",
       "max     91.000000  5082.000000  -70.810000   42.381000   50.000000   \n",
       "\n",
       "            CMEDV        CRIM          ZN       INDUS        CHAS         NOX  \\\n",
       "count  506.000000  506.000000  506.000000  506.000000  506.000000  506.000000   \n",
       "mean    22.528854    3.613524   11.363636   11.136779    0.069170    0.554695   \n",
       "std      9.182176    8.601545   23.322453    6.860353    0.253994    0.115878   \n",
       "min      5.000000    0.006320    0.000000    0.460000    0.000000    0.385000   \n",
       "25%     17.025000    0.082045    0.000000    5.190000    0.000000    0.449000   \n",
       "50%     21.200000    0.256510    0.000000    9.690000    0.000000    0.538000   \n",
       "75%     25.000000    3.677083   12.500000   18.100000    0.000000    0.624000   \n",
       "max     50.000000   88.976200  100.000000   27.740000    1.000000    0.871000   \n",
       "\n",
       "               RM         AGE         DIS         RAD         TAX     PTRATIO  \\\n",
       "count  506.000000  506.000000  506.000000  506.000000  506.000000  506.000000   \n",
       "mean     6.284634   68.574901    3.795043    9.549407  408.237154   18.455534   \n",
       "std      0.702617   28.148861    2.105710    8.707259  168.537116    2.164946   \n",
       "min      3.561000    2.900000    1.129600    1.000000  187.000000   12.600000   \n",
       "25%      5.885500   45.025000    2.100175    4.000000  279.000000   17.400000   \n",
       "50%      6.208500   77.500000    3.207450    5.000000  330.000000   19.050000   \n",
       "75%      6.623500   94.075000    5.188425   24.000000  666.000000   20.200000   \n",
       "max      8.780000  100.000000   12.126500   24.000000  711.000000   22.000000   \n",
       "\n",
       "                B       LSTAT  \n",
       "count  506.000000  506.000000  \n",
       "mean   356.674032   12.653063  \n",
       "std     91.294864    7.141062  \n",
       "min      0.320000    1.730000  \n",
       "25%    375.377500    6.950000  \n",
       "50%    391.440000   11.360000  \n",
       "75%    396.225000   16.955000  \n",
       "max    396.900000   37.970000  "
      ],
      "text/html": "<div>\n<style scoped>\n    .dataframe tbody tr th:only-of-type {\n        vertical-align: middle;\n    }\n\n    .dataframe tbody tr th {\n        vertical-align: top;\n    }\n\n    .dataframe thead th {\n        text-align: right;\n    }\n</style>\n<table border=\"1\" class=\"dataframe\">\n  <thead>\n    <tr style=\"text-align: right;\">\n      <th></th>\n      <th>TOWNNO</th>\n      <th>TRACT</th>\n      <th>LON</th>\n      <th>LAT</th>\n      <th>MEDV</th>\n      <th>CMEDV</th>\n      <th>CRIM</th>\n      <th>ZN</th>\n      <th>INDUS</th>\n      <th>CHAS</th>\n      <th>NOX</th>\n      <th>RM</th>\n      <th>AGE</th>\n      <th>DIS</th>\n      <th>RAD</th>\n      <th>TAX</th>\n      <th>PTRATIO</th>\n      <th>B</th>\n      <th>LSTAT</th>\n    </tr>\n  </thead>\n  <tbody>\n    <tr>\n      <th>count</th>\n      <td>506.000000</td>\n      <td>506.000000</td>\n      <td>506.000000</td>\n      <td>506.000000</td>\n      <td>506.000000</td>\n      <td>506.000000</td>\n      <td>506.000000</td>\n      <td>506.000000</td>\n      <td>506.000000</td>\n      <td>506.000000</td>\n      <td>506.000000</td>\n      <td>506.000000</td>\n      <td>506.000000</td>\n      <td>506.000000</td>\n      <td>506.000000</td>\n      <td>506.000000</td>\n      <td>506.000000</td>\n      <td>506.000000</td>\n      <td>506.000000</td>\n    </tr>\n    <tr>\n      <th>mean</th>\n      <td>47.531621</td>\n      <td>2700.357708</td>\n      <td>-71.056389</td>\n      <td>42.216440</td>\n      <td>22.532806</td>\n      <td>22.528854</td>\n      <td>3.613524</td>\n      <td>11.363636</td>\n      <td>11.136779</td>\n      <td>0.069170</td>\n      <td>0.554695</td>\n      <td>6.284634</td>\n      <td>68.574901</td>\n      <td>3.795043</td>\n      <td>9.549407</td>\n      <td>408.237154</td>\n      <td>18.455534</td>\n      <td>356.674032</td>\n      <td>12.653063</td>\n    </tr>\n    <tr>\n      <th>std</th>\n      <td>27.571401</td>\n      <td>1380.038110</td>\n      <td>0.075405</td>\n      <td>0.061777</td>\n      <td>9.197104</td>\n      <td>9.182176</td>\n      <td>8.601545</td>\n      <td>23.322453</td>\n      <td>6.860353</td>\n      <td>0.253994</td>\n      <td>0.115878</td>\n      <td>0.702617</td>\n      <td>28.148861</td>\n      <td>2.105710</td>\n      <td>8.707259</td>\n      <td>168.537116</td>\n      <td>2.164946</td>\n      <td>91.294864</td>\n      <td>7.141062</td>\n    </tr>\n    <tr>\n      <th>min</th>\n      <td>0.000000</td>\n      <td>1.000000</td>\n      <td>-71.289500</td>\n      <td>42.030000</td>\n      <td>5.000000</td>\n      <td>5.000000</td>\n      <td>0.006320</td>\n      <td>0.000000</td>\n      <td>0.460000</td>\n      <td>0.000000</td>\n      <td>0.385000</td>\n      <td>3.561000</td>\n      <td>2.900000</td>\n      <td>1.129600</td>\n      <td>1.000000</td>\n      <td>187.000000</td>\n      <td>12.600000</td>\n      <td>0.320000</td>\n      <td>1.730000</td>\n    </tr>\n    <tr>\n      <th>25%</th>\n      <td>26.250000</td>\n      <td>1303.250000</td>\n      <td>-71.093225</td>\n      <td>42.180775</td>\n      <td>17.025000</td>\n      <td>17.025000</td>\n      <td>0.082045</td>\n      <td>0.000000</td>\n      <td>5.190000</td>\n      <td>0.000000</td>\n      <td>0.449000</td>\n      <td>5.885500</td>\n      <td>45.025000</td>\n      <td>2.100175</td>\n      <td>4.000000</td>\n      <td>279.000000</td>\n      <td>17.400000</td>\n      <td>375.377500</td>\n      <td>6.950000</td>\n    </tr>\n    <tr>\n      <th>50%</th>\n      <td>42.000000</td>\n      <td>3393.500000</td>\n      <td>-71.052900</td>\n      <td>42.218100</td>\n      <td>21.200000</td>\n      <td>21.200000</td>\n      <td>0.256510</td>\n      <td>0.000000</td>\n      <td>9.690000</td>\n      <td>0.000000</td>\n      <td>0.538000</td>\n      <td>6.208500</td>\n      <td>77.500000</td>\n      <td>3.207450</td>\n      <td>5.000000</td>\n      <td>330.000000</td>\n      <td>19.050000</td>\n      <td>391.440000</td>\n      <td>11.360000</td>\n    </tr>\n    <tr>\n      <th>75%</th>\n      <td>78.000000</td>\n      <td>3739.750000</td>\n      <td>-71.019625</td>\n      <td>42.252250</td>\n      <td>25.000000</td>\n      <td>25.000000</td>\n      <td>3.677083</td>\n      <td>12.500000</td>\n      <td>18.100000</td>\n      <td>0.000000</td>\n      <td>0.624000</td>\n      <td>6.623500</td>\n      <td>94.075000</td>\n      <td>5.188425</td>\n      <td>24.000000</td>\n      <td>666.000000</td>\n      <td>20.200000</td>\n      <td>396.225000</td>\n      <td>16.955000</td>\n    </tr>\n    <tr>\n      <th>max</th>\n      <td>91.000000</td>\n      <td>5082.000000</td>\n      <td>-70.810000</td>\n      <td>42.381000</td>\n      <td>50.000000</td>\n      <td>50.000000</td>\n      <td>88.976200</td>\n      <td>100.000000</td>\n      <td>27.740000</td>\n      <td>1.000000</td>\n      <td>0.871000</td>\n      <td>8.780000</td>\n      <td>100.000000</td>\n      <td>12.126500</td>\n      <td>24.000000</td>\n      <td>711.000000</td>\n      <td>22.000000</td>\n      <td>396.900000</td>\n      <td>37.970000</td>\n    </tr>\n  </tbody>\n</table>\n</div>"
     },
     "metadata": {},
     "execution_count": 125
    }
   ],
   "source": [
    "df.describe()"
   ]
  },
  {
   "source": [
    "## Location, Location, Location"
   ],
   "cell_type": "markdown",
   "metadata": {}
  },
  {
   "cell_type": "code",
   "execution_count": 127,
   "metadata": {},
   "outputs": [
    {
     "output_type": "execute_result",
     "data": {
      "text/plain": [
       "LAT        1.000000\n",
       "LON        0.180876\n",
       "AGE        0.138738\n",
       "B          0.089048\n",
       "LSTAT      0.069038\n",
       "PTRATIO    0.021122\n",
       "MEDV      -0.000905\n",
       "CMEDV     -0.004944\n",
       "NOX       -0.030490\n",
       "INDUS     -0.030963\n",
       "CHAS      -0.042446\n",
       "CRIM      -0.068766\n",
       "RM        -0.085968\n",
       "DIS       -0.107571\n",
       "ZN        -0.140928\n",
       "TAX       -0.147568\n",
       "RAD       -0.185203\n",
       "TRACT     -0.253084\n",
       "TOWNNO    -0.629753\n",
       "Name: LAT, dtype: float64"
      ]
     },
     "metadata": {},
     "execution_count": 127
    },
    {
     "output_type": "display_data",
     "data": {
      "text/plain": "<Figure size 864x648 with 0 Axes>"
     },
     "metadata": {}
    }
   ],
   "source": [
    "plt.figure(figsize=(12,9))\n",
    "cor = housing.corr()\n",
    "cor['LAT'].sort_values(ascending=False)"
   ]
  },
  {
   "cell_type": "code",
   "execution_count": 128,
   "metadata": {},
   "outputs": [
    {
     "output_type": "execute_result",
     "data": {
      "text/plain": [
       "LON        1.000000\n",
       "PTRATIO    0.314109\n",
       "AGE        0.206220\n",
       "LSTAT      0.203597\n",
       "LAT        0.180876\n",
       "NOX        0.156007\n",
       "INDUS      0.070823\n",
       "CRIM       0.063355\n",
       "TAX        0.040100\n",
       "RAD        0.033282\n",
       "B         -0.011969\n",
       "TOWNNO    -0.022096\n",
       "DIS       -0.031639\n",
       "CHAS      -0.153801\n",
       "TRACT     -0.225901\n",
       "ZN        -0.229433\n",
       "RM        -0.275751\n",
       "MEDV      -0.317876\n",
       "CMEDV     -0.320605\n",
       "Name: LON, dtype: float64"
      ]
     },
     "metadata": {},
     "execution_count": 128
    },
    {
     "output_type": "display_data",
     "data": {
      "text/plain": "<Figure size 864x648 with 0 Axes>"
     },
     "metadata": {}
    }
   ],
   "source": [
    "plt.figure(figsize=(12,9))\n",
    "cor = housing.corr()\n",
    "cor['LON'].sort_values(ascending=False)"
   ]
  },
  {
   "cell_type": "code",
   "execution_count": 188,
   "metadata": {},
   "outputs": [
    {
     "output_type": "execute_result",
     "data": {
      "text/plain": [
       "           TOWNNO        TRACT         LON         LAT        MEDV  \\\n",
       "count  404.000000   404.000000  404.000000  404.000000  404.000000   \n",
       "mean    47.037129  2744.849010  -71.057225   42.214757   22.796535   \n",
       "std     26.973033  1377.998874    0.076163    0.061535    9.332147   \n",
       "min      1.000000     1.000000  -71.289500   42.048500    5.000000   \n",
       "25%     27.000000  1551.750000  -71.095375   42.179175   16.950000   \n",
       "50%     42.000000  3417.500000  -71.054000   42.217100   21.600000   \n",
       "75%     75.250000  3747.250000  -71.020000   42.250500   26.400000   \n",
       "max     91.000000  5081.000000  -70.810000   42.374000   50.000000   \n",
       "\n",
       "            CMEDV        CRIM          ZN       INDUS        CHAS         NOX  \\\n",
       "count  404.000000  404.000000  404.000000  404.000000  404.000000  404.000000   \n",
       "mean    22.801733    3.609125   11.569307   10.985050    0.071782    0.556484   \n",
       "std      9.306817    8.875058   23.152481    6.894618    0.258447    0.117704   \n",
       "min      5.000000    0.009060    0.000000    0.740000    0.000000    0.385000   \n",
       "25%     17.075000    0.081437    0.000000    5.130000    0.000000    0.452000   \n",
       "50%     21.600000    0.261390    0.000000    8.560000    0.000000    0.538000   \n",
       "75%     26.400000    3.202962   20.000000   18.100000    0.000000    0.631000   \n",
       "max     50.000000   88.976200  100.000000   27.740000    1.000000    0.871000   \n",
       "\n",
       "               RM         AGE         DIS         RAD         TAX     PTRATIO  \\\n",
       "count  404.000000  404.000000  404.000000  404.000000  404.000000  404.000000   \n",
       "mean     6.315891   68.556436    3.808195    9.356436  404.032178   18.318317   \n",
       "std      0.709452   27.994922    2.131226    8.589721  166.172655    2.228701   \n",
       "min      3.863000    2.900000    1.129600    1.000000  187.000000   12.600000   \n",
       "25%      5.890500   45.550000    2.087875    4.000000  279.000000   16.800000   \n",
       "50%      6.210000   77.700000    3.175750    5.000000  330.000000   18.700000   \n",
       "75%      6.636750   93.650000    5.400800   12.000000  666.000000   20.200000   \n",
       "max      8.780000  100.000000   12.126500   24.000000  711.000000   22.000000   \n",
       "\n",
       "                B       LSTAT  \n",
       "count  404.000000  404.000000  \n",
       "mean   356.278342   12.457351  \n",
       "std     91.566533    7.110381  \n",
       "min      0.320000    1.730000  \n",
       "25%    375.472500    6.772500  \n",
       "50%    391.305000   10.925000  \n",
       "75%    395.755000   16.372500  \n",
       "max    396.900000   37.970000  "
      ],
      "text/html": "<div>\n<style scoped>\n    .dataframe tbody tr th:only-of-type {\n        vertical-align: middle;\n    }\n\n    .dataframe tbody tr th {\n        vertical-align: top;\n    }\n\n    .dataframe thead th {\n        text-align: right;\n    }\n</style>\n<table border=\"1\" class=\"dataframe\">\n  <thead>\n    <tr style=\"text-align: right;\">\n      <th></th>\n      <th>TOWNNO</th>\n      <th>TRACT</th>\n      <th>LON</th>\n      <th>LAT</th>\n      <th>MEDV</th>\n      <th>CMEDV</th>\n      <th>CRIM</th>\n      <th>ZN</th>\n      <th>INDUS</th>\n      <th>CHAS</th>\n      <th>NOX</th>\n      <th>RM</th>\n      <th>AGE</th>\n      <th>DIS</th>\n      <th>RAD</th>\n      <th>TAX</th>\n      <th>PTRATIO</th>\n      <th>B</th>\n      <th>LSTAT</th>\n    </tr>\n  </thead>\n  <tbody>\n    <tr>\n      <th>count</th>\n      <td>404.000000</td>\n      <td>404.000000</td>\n      <td>404.000000</td>\n      <td>404.000000</td>\n      <td>404.000000</td>\n      <td>404.000000</td>\n      <td>404.000000</td>\n      <td>404.000000</td>\n      <td>404.000000</td>\n      <td>404.000000</td>\n      <td>404.000000</td>\n      <td>404.000000</td>\n      <td>404.000000</td>\n      <td>404.000000</td>\n      <td>404.000000</td>\n      <td>404.000000</td>\n      <td>404.000000</td>\n      <td>404.000000</td>\n      <td>404.000000</td>\n    </tr>\n    <tr>\n      <th>mean</th>\n      <td>47.037129</td>\n      <td>2744.849010</td>\n      <td>-71.057225</td>\n      <td>42.214757</td>\n      <td>22.796535</td>\n      <td>22.801733</td>\n      <td>3.609125</td>\n      <td>11.569307</td>\n      <td>10.985050</td>\n      <td>0.071782</td>\n      <td>0.556484</td>\n      <td>6.315891</td>\n      <td>68.556436</td>\n      <td>3.808195</td>\n      <td>9.356436</td>\n      <td>404.032178</td>\n      <td>18.318317</td>\n      <td>356.278342</td>\n      <td>12.457351</td>\n    </tr>\n    <tr>\n      <th>std</th>\n      <td>26.973033</td>\n      <td>1377.998874</td>\n      <td>0.076163</td>\n      <td>0.061535</td>\n      <td>9.332147</td>\n      <td>9.306817</td>\n      <td>8.875058</td>\n      <td>23.152481</td>\n      <td>6.894618</td>\n      <td>0.258447</td>\n      <td>0.117704</td>\n      <td>0.709452</td>\n      <td>27.994922</td>\n      <td>2.131226</td>\n      <td>8.589721</td>\n      <td>166.172655</td>\n      <td>2.228701</td>\n      <td>91.566533</td>\n      <td>7.110381</td>\n    </tr>\n    <tr>\n      <th>min</th>\n      <td>1.000000</td>\n      <td>1.000000</td>\n      <td>-71.289500</td>\n      <td>42.048500</td>\n      <td>5.000000</td>\n      <td>5.000000</td>\n      <td>0.009060</td>\n      <td>0.000000</td>\n      <td>0.740000</td>\n      <td>0.000000</td>\n      <td>0.385000</td>\n      <td>3.863000</td>\n      <td>2.900000</td>\n      <td>1.129600</td>\n      <td>1.000000</td>\n      <td>187.000000</td>\n      <td>12.600000</td>\n      <td>0.320000</td>\n      <td>1.730000</td>\n    </tr>\n    <tr>\n      <th>25%</th>\n      <td>27.000000</td>\n      <td>1551.750000</td>\n      <td>-71.095375</td>\n      <td>42.179175</td>\n      <td>16.950000</td>\n      <td>17.075000</td>\n      <td>0.081437</td>\n      <td>0.000000</td>\n      <td>5.130000</td>\n      <td>0.000000</td>\n      <td>0.452000</td>\n      <td>5.890500</td>\n      <td>45.550000</td>\n      <td>2.087875</td>\n      <td>4.000000</td>\n      <td>279.000000</td>\n      <td>16.800000</td>\n      <td>375.472500</td>\n      <td>6.772500</td>\n    </tr>\n    <tr>\n      <th>50%</th>\n      <td>42.000000</td>\n      <td>3417.500000</td>\n      <td>-71.054000</td>\n      <td>42.217100</td>\n      <td>21.600000</td>\n      <td>21.600000</td>\n      <td>0.261390</td>\n      <td>0.000000</td>\n      <td>8.560000</td>\n      <td>0.000000</td>\n      <td>0.538000</td>\n      <td>6.210000</td>\n      <td>77.700000</td>\n      <td>3.175750</td>\n      <td>5.000000</td>\n      <td>330.000000</td>\n      <td>18.700000</td>\n      <td>391.305000</td>\n      <td>10.925000</td>\n    </tr>\n    <tr>\n      <th>75%</th>\n      <td>75.250000</td>\n      <td>3747.250000</td>\n      <td>-71.020000</td>\n      <td>42.250500</td>\n      <td>26.400000</td>\n      <td>26.400000</td>\n      <td>3.202962</td>\n      <td>20.000000</td>\n      <td>18.100000</td>\n      <td>0.000000</td>\n      <td>0.631000</td>\n      <td>6.636750</td>\n      <td>93.650000</td>\n      <td>5.400800</td>\n      <td>12.000000</td>\n      <td>666.000000</td>\n      <td>20.200000</td>\n      <td>395.755000</td>\n      <td>16.372500</td>\n    </tr>\n    <tr>\n      <th>max</th>\n      <td>91.000000</td>\n      <td>5081.000000</td>\n      <td>-70.810000</td>\n      <td>42.374000</td>\n      <td>50.000000</td>\n      <td>50.000000</td>\n      <td>88.976200</td>\n      <td>100.000000</td>\n      <td>27.740000</td>\n      <td>1.000000</td>\n      <td>0.871000</td>\n      <td>8.780000</td>\n      <td>100.000000</td>\n      <td>12.126500</td>\n      <td>24.000000</td>\n      <td>711.000000</td>\n      <td>22.000000</td>\n      <td>396.900000</td>\n      <td>37.970000</td>\n    </tr>\n  </tbody>\n</table>\n</div>"
     },
     "metadata": {},
     "execution_count": 188
    }
   ],
   "source": [
    "housing.describe()"
   ]
  },
  {
   "cell_type": "code",
   "execution_count": null,
   "metadata": {},
   "outputs": [],
   "source": []
  },
  {
   "cell_type": "code",
   "execution_count": 205,
   "metadata": {
    "tags": []
   },
   "outputs": [],
   "source": [
    "import math\n",
    "\n",
    "features_to_keep = ['LON', 'LAT', 'R', 'THETA']\n",
    "\n",
    "def polar_coords(row):\n",
    "    lon = row['LON']\n",
    "    lat = row['LAT']\n",
    "    r = np.sqrt(lon ** 2 + lat ** 2)\n",
    "    theta = math.atan(lat / lon)\n",
    "    return r\n",
    "def polar_coords2(row):\n",
    "    lon = row['LON']\n",
    "    lat = row['LAT']\n",
    "    r = np.sqrt(lon ** 2 + lat ** 2)\n",
    "    theta = math.atan(lat / lon)\n",
    "    return theta\n",
    "\n",
    "lon_and_lat = train_set.copy()\n",
    "lon_and_lat['R'] = lon_and_lat.apply(lambda x: polar_coords(x), axis=1)\n",
    "lon_and_lat['THETA'] = lon_and_lat.apply(lambda x: polar_coords2(x), axis=1)\n",
    "lon_and_lat = lon_and_lat[['R', 'THETA']]\n",
    "lon_and_latbels = train_set['CMEDV'].copy()"
   ]
  },
  {
   "cell_type": "code",
   "execution_count": 206,
   "metadata": {},
   "outputs": [],
   "source": [
    "from sklearn.pipeline import Pipeline\n",
    "from sklearn.preprocessing import StandardScaler\n",
    "\n",
    "pipeline = Pipeline(\n",
    "    [\n",
    "        ('std_scaler', StandardScaler()),\n",
    "    ]\n",
    ")"
   ]
  },
  {
   "cell_type": "code",
   "execution_count": 231,
   "metadata": {},
   "outputs": [
    {
     "output_type": "stream",
     "name": "stdout",
     "text": [
      "forest\n",
      "Scores: [4.80432322 5.70293884 7.04874729 6.88015734 7.41548866 7.84615191\n",
      " 7.39099777 5.42044935 5.5187845  7.44557808]\n",
      "Mean: 6.547361694459542\n",
      "Standard deviation: 1.0198181682305647\n",
      "ada\n",
      "Scores: [7.10812339 7.36930002 8.52317878 7.83168679 8.49829026 8.21973666\n",
      " 8.21909661 7.0664194  7.47349196 8.48099913]\n",
      "Mean: 7.879032300711053\n",
      "Standard deviation: 0.5544063678237721\n",
      "grad\n",
      "Scores: [5.25710078 7.14030231 8.55438502 8.00245435 9.00829804 8.4901544\n",
      " 8.20190755 6.61617228 6.14029318 8.27064764]\n",
      "Mean: 7.568171555414709\n",
      "Standard deviation: 1.1597236163170819\n",
      "lin\n",
      "Scores: [ 7.73797298  8.97653178  9.97551422  7.93515494  9.56244577  9.23112739\n",
      " 10.44983425  7.90416455  7.77209453  8.20306889]\n",
      "Mean: 8.774790930291768\n",
      "Standard deviation: 0.9480024026121401\n",
      "ridge\n",
      "Scores: [ 7.73742508  8.97690654  9.97702919  7.93423178  9.56165599  9.2309614\n",
      " 10.45122074  7.90236649  7.77247452  8.20181929]\n",
      "Mean: 8.774609101904575\n",
      "Standard deviation: 0.9487159185435349\n",
      "elastic\n",
      "Scores: [ 7.74811912  9.06677301 10.37386061  7.88785488  9.58219108  9.36145305\n",
      " 10.78147336  7.66861214  7.89745087  8.12357356]\n",
      "Mean: 8.849136168199424\n",
      "Standard deviation: 1.0894034489595428\n",
      "svm\n",
      "Scores: [ 6.11260376  8.08870599 10.08858998  7.09714119  8.60231874  7.73678506\n",
      "  9.82873735  7.19671397  7.52200418  8.50276886]\n",
      "Mean: 8.077636908965776\n",
      "Standard deviation: 1.1657656634135192\n"
     ]
    }
   ],
   "source": [
    "from sklearn.linear_model import LinearRegression, Ridge, ElasticNet\n",
    "from sklearn.ensemble import RandomForestRegressor, AdaBoostRegressor, GradientBoostingRegressor\n",
    "from sklearn.svm import SVR\n",
    "\n",
    "lon_and_lat_prepared = pipeline.fit_transform(lon_and_lat)\n",
    "\n",
    "lin_reg = LinearRegression()\n",
    "ada_reg = AdaBoostRegressor()\n",
    "grad_reg = GradientBoostingRegressor()\n",
    "forest_reg = RandomForestRegressor()\n",
    "ridge_reg = Ridge()\n",
    "elastic_reg = ElasticNet()\n",
    "svm_reg = SVR()\n",
    "\n",
    "def display_scores(reg, name):\n",
    "    print(name)\n",
    "    reg.fit(lon_and_lat_prepared, lon_and_latbels)\n",
    "    preds = reg.predict(lon_and_lat_prepared)\n",
    "    scores = cross_val_score(reg, lon_and_lat_prepared, lon_and_latbels, scoring=\"neg_mean_squared_error\", cv=10)\n",
    "    rmse_scores = np.sqrt(-scores)\n",
    "    print(\"Scores:\", rmse_scores)\n",
    "    print(\"Mean:\", rmse_scores.mean())\n",
    "    print(\"Standard deviation:\", rmse_scores.std())\n",
    "\n",
    "display_scores(forest_reg, 'forest')\n",
    "display_scores(ada_reg, 'ada')\n",
    "display_scores(grad_reg, 'grad')\n",
    "display_scores(lin_reg, 'lin')\n",
    "display_scores(ridge_reg, 'ridge')\n",
    "display_scores(elastic_reg, 'elastic')\n",
    "display_scores(svm_reg, 'svm')"
   ]
  },
  {
   "cell_type": "code",
   "execution_count": 208,
   "metadata": {},
   "outputs": [
    {
     "output_type": "execute_result",
     "data": {
      "text/plain": [
       "GridSearchCV(cv=10, estimator=RandomForestRegressor(),\n",
       "             param_grid=[{'bootstrap': [True, False],\n",
       "                          'n_estimators': [100, 300, 500, 1000]}],\n",
       "             scoring='neg_mean_squared_error')"
      ]
     },
     "metadata": {},
     "execution_count": 208
    }
   ],
   "source": [
    "from sklearn.model_selection import GridSearchCV\n",
    "\n",
    "param_grid =[{\n",
    "    'n_estimators': [100, 300, 500, 1000], 'bootstrap': [True, False]\n",
    "}]\n",
    "\n",
    "param_grid_2 = [{\n",
    "    'l1_ratio': [0.25, 0.5, 0.75], 'normalize': [True, False]\n",
    "}]\n",
    "\n",
    "search_grid = GridSearchCV(forest_reg, param_grid, scoring='neg_mean_squared_error', cv = 10)\n",
    "search_grid.fit(lon_and_lat_prepared, lon_and_latbels)"
   ]
  },
  {
   "cell_type": "code",
   "execution_count": 209,
   "metadata": {},
   "outputs": [
    {
     "output_type": "execute_result",
     "data": {
      "text/plain": [
       "RandomForestRegressor(n_estimators=500)"
      ]
     },
     "metadata": {},
     "execution_count": 209
    }
   ],
   "source": [
    "model = search_grid.best_estimator_\n",
    "model"
   ]
  },
  {
   "cell_type": "code",
   "execution_count": 220,
   "metadata": {},
   "outputs": [],
   "source": [
    "X_test = test_set.drop(\"CMEDV\", axis=1)\n",
    "X_test['R'] = X_test.apply(lambda x: polar_coords(x), axis=1)\n",
    "X_test['THETA'] = X_test.apply(lambda x: polar_coords2(x), axis=1)\n",
    "X_test = X_test[['R', 'THETA']]\n",
    "y_test = test_set[\"CMEDV\"].copy()\n",
    "X_test_prepared = pipeline.transform(X_test)\n",
    "final_preds = model.predict(X_test_prepared)\n",
    "final_mse = mean_squared_error(y_test, final_preds)\n",
    "final_rmse = np.sqrt(final_mse)"
   ]
  },
  {
   "cell_type": "code",
   "execution_count": 221,
   "metadata": {},
   "outputs": [
    {
     "output_type": "execute_result",
     "data": {
      "text/plain": [
       "6.085729089129307"
      ]
     },
     "metadata": {},
     "execution_count": 221
    }
   ],
   "source": [
    "final_rmse"
   ]
  },
  {
   "source": [
    "## All features"
   ],
   "cell_type": "markdown",
   "metadata": {}
  },
  {
   "cell_type": "code",
   "execution_count": 222,
   "metadata": {},
   "outputs": [
    {
     "output_type": "execute_result",
     "data": {
      "text/plain": [
       "Index(['TOWN', 'TOWNNO', 'TRACT', 'LON', 'LAT', 'MEDV', 'CMEDV', 'CRIM', 'ZN',\n",
       "       'INDUS', 'CHAS', 'NOX', 'RM', 'AGE', 'DIS', 'RAD', 'TAX', 'PTRATIO',\n",
       "       'B', 'LSTAT'],\n",
       "      dtype='object')"
      ]
     },
     "metadata": {},
     "execution_count": 222
    }
   ],
   "source": [
    "data = train_set.copy()\n",
    "data.columns"
   ]
  },
  {
   "cell_type": "code",
   "execution_count": 225,
   "metadata": {},
   "outputs": [],
   "source": [
    "features_to_keep = ['CRIM', 'ZN', 'INDUS', 'NOX', 'RM', 'AGE', 'DIS', 'RAD', 'TAX', 'B', 'LSTAT', 'PTRATIO']\n",
    "\n",
    "data = train_set.copy()\n",
    "data = data[features_to_keep]\n",
    "labels = train_set['CMEDV'].copy()"
   ]
  },
  {
   "cell_type": "code",
   "execution_count": 226,
   "metadata": {},
   "outputs": [],
   "source": [
    "from sklearn.pipeline import Pipeline\n",
    "from sklearn.preprocessing import StandardScaler\n",
    "\n",
    "pipeline = Pipeline(\n",
    "    [\n",
    "        ('std_scaler', StandardScaler()),\n",
    "    ]\n",
    ")"
   ]
  },
  {
   "cell_type": "code",
   "execution_count": 232,
   "metadata": {},
   "outputs": [
    {
     "output_type": "stream",
     "name": "stdout",
     "text": [
      "forest\n",
      "Scores: [3.14835595 3.29279034 2.76866117 5.28042315 4.57774066 2.7867728\n",
      " 3.80794005 2.41845526 2.54098282 4.43867678]\n",
      "Mean: 3.5060798976616274\n",
      "Standard deviation: 0.9277173556341011\n",
      "ada\n",
      "Scores: [4.3902135  3.56420624 3.0135826  5.04290778 4.05137025 3.64614387\n",
      " 4.06564847 3.2846204  3.2075929  5.09610678]\n",
      "Mean: 3.9362392782171574\n",
      "Standard deviation: 0.6953771822474429\n",
      "grad\n",
      "Scores: [3.20390768 2.62863912 2.51289567 4.64694397 3.96915349 2.93707029\n",
      " 3.73367181 2.22145806 2.44538095 4.21105911]\n",
      "Mean: 3.25101801443612\n",
      "Standard deviation: 0.7975568213794276\n",
      "lin\n",
      "Scores: [3.66224284 4.02291884 5.4794556  6.49969148 4.6881913  5.18862971\n",
      " 4.62421562 4.32196541 3.66642465 5.71505581]\n",
      "Mean: 4.786879127491209\n",
      "Standard deviation: 0.8827518113617888\n",
      "ridge\n",
      "Scores: [3.66642069 4.01725013 5.47450119 6.49911608 4.69512871 5.19361441\n",
      " 4.62206589 4.31313173 3.6546731  5.71568295]\n",
      "Mean: 4.785158487801619\n",
      "Standard deviation: 0.8844390605532145\n",
      "elastic\n",
      "Scores: [4.65059104 4.80040089 6.45366124 6.15019686 6.03102497 5.80850154\n",
      " 6.22178602 4.63064872 4.3666666  5.88767611]\n",
      "Mean: 5.500115399968167\n",
      "Standard deviation: 0.7504535195555361\n",
      "svm\n",
      "Scores: [4.38370616 5.2896794  6.60009015 5.29258066 6.34957548 4.90433306\n",
      " 5.71558181 4.35007878 3.74349291 5.84344738]\n",
      "Mean: 5.247256579241517\n",
      "Standard deviation: 0.8691053248559475\n"
     ]
    }
   ],
   "source": [
    "from sklearn.linear_model import LinearRegression, Ridge, ElasticNet\n",
    "from sklearn.ensemble import RandomForestRegressor, AdaBoostRegressor, GradientBoostingRegressor\n",
    "from sklearn.svm import SVR\n",
    "\n",
    "data_prepped = pipeline.fit_transform(data)\n",
    "\n",
    "lin_reg = LinearRegression()\n",
    "ada_reg = AdaBoostRegressor()\n",
    "grad_reg = GradientBoostingRegressor()\n",
    "forest_reg = RandomForestRegressor()\n",
    "ridge_reg = Ridge()\n",
    "elastic_reg = ElasticNet()\n",
    "svm_reg = SVR()\n",
    "\n",
    "def display_scores(reg, name):\n",
    "    print(name)\n",
    "    reg.fit(data_prepped, labels)\n",
    "    preds = reg.predict(data_prepped)\n",
    "    scores = cross_val_score(reg, data_prepped, labels, scoring=\"neg_mean_squared_error\", cv=10)\n",
    "    rmse_scores = np.sqrt(-scores)\n",
    "    print(\"Scores:\", rmse_scores)\n",
    "    print(\"Mean:\", rmse_scores.mean())\n",
    "    print(\"Standard deviation:\", rmse_scores.std())\n",
    "\n",
    "display_scores(forest_reg, 'forest')\n",
    "display_scores(ada_reg, 'ada')\n",
    "display_scores(grad_reg, 'grad')\n",
    "display_scores(lin_reg, 'lin')\n",
    "display_scores(ridge_reg, 'ridge')\n",
    "display_scores(elastic_reg, 'elastic')\n",
    "display_scores(svm_reg, 'svm')"
   ]
  },
  {
   "cell_type": "code",
   "execution_count": 233,
   "metadata": {},
   "outputs": [
    {
     "output_type": "execute_result",
     "data": {
      "text/plain": [
       "GridSearchCV(cv=10, estimator=GradientBoostingRegressor(),\n",
       "             param_grid=[{'loss': ['ls', 'lad', 'huber', 'quantile'],\n",
       "                          'n_estimators': [100, 300, 1000]}],\n",
       "             return_train_score=True, scoring='neg_root_mean_squared_error')"
      ]
     },
     "metadata": {},
     "execution_count": 233
    }
   ],
   "source": [
    "from sklearn.model_selection import GridSearchCV\n",
    "\n",
    "param_grid = [{\n",
    "    'n_estimators': [100, 300, 1000], 'loss': ['ls', 'lad', 'huber', 'quantile']\n",
    "}]\n",
    "\n",
    "grid_search = GridSearchCV(grad_reg, param_grid, scoring='neg_root_mean_squared_error', cv=10, return_train_score=True)\n",
    "grid_search.fit(data_prepped, labels)"
   ]
  },
  {
   "cell_type": "code",
   "execution_count": 234,
   "metadata": {},
   "outputs": [
    {
     "output_type": "execute_result",
     "data": {
      "text/plain": [
       "{'loss': 'ls', 'n_estimators': 100}"
      ]
     },
     "metadata": {},
     "execution_count": 234
    }
   ],
   "source": [
    "grid_search.best_params_"
   ]
  },
  {
   "cell_type": "code",
   "execution_count": 235,
   "metadata": {},
   "outputs": [],
   "source": [
    "model = grid_search.best_estimator_"
   ]
  },
  {
   "cell_type": "code",
   "execution_count": 241,
   "metadata": {},
   "outputs": [
    {
     "output_type": "execute_result",
     "data": {
      "text/plain": [
       "[(0.0005634082444402624, 'ZN'),\n",
       " (0.0029486272988579186, 'INDUS'),\n",
       " (0.0034943538636481703, 'RAD'),\n",
       " (0.008028047462628052, 'B'),\n",
       " (0.011836476611557255, 'AGE'),\n",
       " (0.012483511237929104, 'TAX'),\n",
       " (0.026518954737546067, 'PTRATIO'),\n",
       " (0.028354938668645698, 'NOX'),\n",
       " (0.03022452512698067, 'CRIM'),\n",
       " (0.07411678892106494, 'DIS'),\n",
       " (0.3520523812938646, 'LSTAT'),\n",
       " (0.44937798653283717, 'RM')]"
      ]
     },
     "metadata": {},
     "execution_count": 241
    }
   ],
   "source": [
    "feature_importances = grid_search.best_estimator_.feature_importances_\n",
    "sorted(zip(feature_importances, data.columns))"
   ]
  },
  {
   "cell_type": "code",
   "execution_count": 242,
   "metadata": {},
   "outputs": [],
   "source": [
    "X_test = test_set.drop(\"CMEDV\", axis=1)\n",
    "X_test = X_test[features_to_keep]\n",
    "y_test = test_set[\"CMEDV\"].copy()\n",
    "X_test_prepared = pipeline.transform(X_test)\n",
    "final_preds = model.predict(X_test_prepared)\n",
    "final_mse = mean_squared_error(y_test, final_preds)\n",
    "final_rmse = np.sqrt(final_mse)"
   ]
  },
  {
   "cell_type": "code",
   "execution_count": 243,
   "metadata": {},
   "outputs": [
    {
     "output_type": "execute_result",
     "data": {
      "text/plain": [
       "2.554893414027797"
      ]
     },
     "metadata": {},
     "execution_count": 243
    }
   ],
   "source": [
    "final_rmse"
   ]
  },
  {
   "cell_type": "code",
   "execution_count": 95,
   "metadata": {},
   "outputs": [
    {
     "output_type": "execute_result",
     "data": {
      "text/plain": [
       "array([3.19386531, 5.55825275])"
      ]
     },
     "metadata": {},
     "execution_count": 95
    }
   ],
   "source": [
    "from scipy import stats\n",
    "confidence = 0.95\n",
    "squared_errors = (final_preds - y_test) ** 2\n",
    "np.sqrt(stats.t.interval(confidence, len(squared_errors) -1 ,\n",
    "loc = squared_errors.mean(), scale=stats.sem(squared_errors)))"
   ]
  },
  {
   "cell_type": "code",
   "execution_count": 96,
   "metadata": {},
   "outputs": [
    {
     "output_type": "execute_result",
     "data": {
      "text/plain": [
       "[(0.27914282161652265, 'INDUS'),\n",
       " (0.2621607749562425, 'PTRATIO'),\n",
       " (0.13653077780656453, 'CRIM'),\n",
       " (0.11379776229998498, 'DIS'),\n",
       " (0.08223826406278445, 'NOX'),\n",
       " (0.0630576673870287, 'B'),\n",
       " (0.048072003971347047, 'TAX'),\n",
       " (0.014999927899525149, 'ZN')]"
      ]
     },
     "metadata": {},
     "execution_count": 96
    }
   ],
   "source": [
    "sorted(zip(feature_importances, ml_housing.columns), reverse=True)"
   ]
  },
  {
   "cell_type": "code",
   "execution_count": null,
   "metadata": {},
   "outputs": [],
   "source": []
  }
 ],
 "metadata": {
  "kernelspec": {
   "name": "Python 3.9.1 64-bit ('env')",
   "display_name": "Python 3.9.1 64-bit ('env')",
   "metadata": {
    "interpreter": {
     "hash": "e51a6f1ddb1e624384728b7b43b6687d43ba735db8de0d7f7c218cf96f9c6c4b"
    }
   }
  },
  "language_info": {
   "codemirror_mode": {
    "name": "ipython",
    "version": 3
   },
   "file_extension": ".py",
   "mimetype": "text/x-python",
   "name": "python",
   "nbconvert_exporter": "python",
   "pygments_lexer": "ipython3",
   "version": "3.9.1-final"
  }
 },
 "nbformat": 4,
 "nbformat_minor": 2
}